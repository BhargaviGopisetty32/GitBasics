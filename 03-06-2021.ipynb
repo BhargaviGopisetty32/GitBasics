{
 "cells": [
  {
   "cell_type": "markdown",
   "metadata": {},
   "source": [
    "# Set:"
   ]
  },
  {
   "cell_type": "code",
   "execution_count": 1,
   "metadata": {},
   "outputs": [
    {
     "name": "stdout",
     "output_type": "stream",
     "text": [
      "{'papa', 45, 'a', 120, 155}\n"
     ]
    }
   ],
   "source": [
    "g = {'a',45,120,155,\"papa\"}\n",
    "print(g)"
   ]
  },
  {
   "cell_type": "code",
   "execution_count": 2,
   "metadata": {},
   "outputs": [
    {
     "data": {
      "text/plain": [
       "{120, 155, 45, 'a', 'papa'}"
      ]
     },
     "execution_count": 2,
     "metadata": {},
     "output_type": "execute_result"
    }
   ],
   "source": [
    "g"
   ]
  },
  {
   "cell_type": "code",
   "execution_count": 3,
   "metadata": {},
   "outputs": [
    {
     "name": "stdout",
     "output_type": "stream",
     "text": [
      "{} <class 'dict'>\n",
      "{2} <class 'set'>\n"
     ]
    }
   ],
   "source": [
    "h = {}\n",
    "m = {2}\n",
    "print(h,type(h))\n",
    "print(m,type(m))"
   ]
  },
  {
   "cell_type": "code",
   "execution_count": 4,
   "metadata": {},
   "outputs": [
    {
     "name": "stdout",
     "output_type": "stream",
     "text": [
      "['__and__', '__class__', '__contains__', '__delattr__', '__dir__', '__doc__', '__eq__', '__format__', '__ge__', '__getattribute__', '__gt__', '__hash__', '__iand__', '__init__', '__init_subclass__', '__ior__', '__isub__', '__iter__', '__ixor__', '__le__', '__len__', '__lt__', '__ne__', '__new__', '__or__', '__rand__', '__reduce__', '__reduce_ex__', '__repr__', '__ror__', '__rsub__', '__rxor__', '__setattr__', '__sizeof__', '__str__', '__sub__', '__subclasshook__', '__xor__', 'add', 'clear', 'copy', 'difference', 'difference_update', 'discard', 'intersection', 'intersection_update', 'isdisjoint', 'issubset', 'issuperset', 'pop', 'remove', 'symmetric_difference', 'symmetric_difference_update', 'union', 'update']\n"
     ]
    }
   ],
   "source": [
    "print(dir(set))"
   ]
  },
  {
   "cell_type": "code",
   "execution_count": 9,
   "metadata": {},
   "outputs": [
    {
     "name": "stdout",
     "output_type": "stream",
     "text": [
      "{0, 34, 67, 'moon', 'rain', 'sun'}\n"
     ]
    }
   ],
   "source": [
    "s1 = {34,67,\"sun\",0,\"moon\"}\n",
    "s1.add(\"rain\")\n",
    "print(s1)"
   ]
  },
  {
   "cell_type": "code",
   "execution_count": 10,
   "metadata": {},
   "outputs": [
    {
     "data": {
      "text/plain": [
       "{0, 34, 67, 'moon', 'rain', 'sun'}"
      ]
     },
     "execution_count": 10,
     "metadata": {},
     "output_type": "execute_result"
    }
   ],
   "source": [
    "s1"
   ]
  },
  {
   "cell_type": "code",
   "execution_count": 12,
   "metadata": {},
   "outputs": [
    {
     "name": "stdout",
     "output_type": "stream",
     "text": [
      "{0, 34, 67, 'moon', 'rain', 'sun'}\n",
      "{34, 67, 'moon', 'rain', 'sun'}\n"
     ]
    }
   ],
   "source": [
    "print(s1)\n",
    "s1.pop()\n",
    "print(s1)"
   ]
  },
  {
   "cell_type": "code",
   "execution_count": 15,
   "metadata": {},
   "outputs": [
    {
     "name": "stdout",
     "output_type": "stream",
     "text": [
      "{34, 67, 'moon', 'rain', 'sun'}\n",
      "{34, 67, 'moon', 'rain'}\n"
     ]
    }
   ],
   "source": [
    "print(s1)\n",
    "s1.remove('sun')\n",
    "print(s1)"
   ]
  },
  {
   "cell_type": "code",
   "execution_count": 17,
   "metadata": {},
   "outputs": [
    {
     "name": "stdout",
     "output_type": "stream",
     "text": [
      "{32, 5, 6, 8, 45}\n",
      "{1, 2, 5, 6, 7, 456, 123}\n",
      "{32, 1, 2, 5, 6, 7, 8, 456, 45, 123}\n",
      "{32, 5, 6, 8, 45}\n",
      "{1, 2, 5, 6, 7, 456, 123}\n"
     ]
    }
   ],
   "source": [
    "s2 = {45,8,32,5,6}\n",
    "s3 = {1,2,5,7,6,123,456}\n",
    "print(s2)\n",
    "print(s3)\n",
    "print(s2.union(s3))\n",
    "print(s2)\n",
    "print(s3)"
   ]
  },
  {
   "cell_type": "code",
   "execution_count": 18,
   "metadata": {},
   "outputs": [
    {
     "name": "stdout",
     "output_type": "stream",
     "text": [
      "{32, 5, 6, 8, 45}\n",
      "{1, 2, 5, 6, 7, 456, 123}\n",
      "{5, 6}\n",
      "{32, 5, 6, 8, 45}\n",
      "{1, 2, 5, 6, 7, 456, 123}\n"
     ]
    }
   ],
   "source": [
    "print(s2)\n",
    "print(s3)\n",
    "print(s3.intersection(s2))\n",
    "print(s2)\n",
    "print(s3)"
   ]
  },
  {
   "cell_type": "markdown",
   "metadata": {},
   "source": [
    "# Dictionary:"
   ]
  },
  {
   "cell_type": "code",
   "execution_count": 32,
   "metadata": {},
   "outputs": [
    {
     "name": "stdout",
     "output_type": "stream",
     "text": [
      "{'name': ('mama', 'papa', 'sista'), 'age': 20, 'sal': [24, 500, 48.56]} <class 'dict'>\n"
     ]
    }
   ],
   "source": [
    "t = {'name':(\"mama\",\"papa\",\"sista\"),'age':20,'sal':[24,500,48.560]}\n",
    "print(t,type(t))"
   ]
  },
  {
   "cell_type": "code",
   "execution_count": 33,
   "metadata": {},
   "outputs": [
    {
     "name": "stdout",
     "output_type": "stream",
     "text": [
      "24\n"
     ]
    }
   ],
   "source": [
    "print(t['sal'][0])"
   ]
  },
  {
   "cell_type": "code",
   "execution_count": 34,
   "metadata": {},
   "outputs": [
    {
     "name": "stdout",
     "output_type": "stream",
     "text": [
      "['__class__', '__contains__', '__delattr__', '__delitem__', '__dir__', '__doc__', '__eq__', '__format__', '__ge__', '__getattribute__', '__getitem__', '__gt__', '__hash__', '__init__', '__init_subclass__', '__iter__', '__le__', '__len__', '__lt__', '__ne__', '__new__', '__reduce__', '__reduce_ex__', '__repr__', '__reversed__', '__setattr__', '__setitem__', '__sizeof__', '__str__', '__subclasshook__', 'clear', 'copy', 'fromkeys', 'get', 'items', 'keys', 'pop', 'popitem', 'setdefault', 'update', 'values']\n"
     ]
    }
   ],
   "source": [
    "print(dir(dict))"
   ]
  },
  {
   "cell_type": "code",
   "execution_count": 35,
   "metadata": {},
   "outputs": [
    {
     "name": "stdout",
     "output_type": "stream",
     "text": [
      "dict_keys(['name', 'age', 'sal'])\n"
     ]
    }
   ],
   "source": [
    "print(t.keys())"
   ]
  },
  {
   "cell_type": "code",
   "execution_count": 36,
   "metadata": {},
   "outputs": [
    {
     "name": "stdout",
     "output_type": "stream",
     "text": [
      "dict_values([('mama', 'papa', 'sista'), 20, [24, 500, 48.56]])\n"
     ]
    }
   ],
   "source": [
    "print(t.values())"
   ]
  },
  {
   "cell_type": "code",
   "execution_count": 38,
   "metadata": {},
   "outputs": [
    {
     "name": "stdout",
     "output_type": "stream",
     "text": [
      "{'name': 'bro', 'age': [45, 59], 'sal': 0}\n"
     ]
    }
   ],
   "source": [
    "y = {'name':\"bro\",\"age\":[45,59],\"sal\":0}\n",
    "print(y)"
   ]
  },
  {
   "cell_type": "code",
   "execution_count": 39,
   "metadata": {},
   "outputs": [
    {
     "name": "stdout",
     "output_type": "stream",
     "text": [
      "dict_items([('name', ('mama', 'papa', 'sista')), ('age', 20), ('sal', [24, 500, 48.56])])\n"
     ]
    }
   ],
   "source": [
    "print(t.items())"
   ]
  },
  {
   "cell_type": "code",
   "execution_count": null,
   "metadata": {},
   "outputs": [],
   "source": [
    "[(key,value),(),()]"
   ]
  },
  {
   "cell_type": "code",
   "execution_count": 40,
   "metadata": {},
   "outputs": [
    {
     "name": "stdout",
     "output_type": "stream",
     "text": [
      "('mama', 'papa', 'sista')\n",
      "20\n",
      "None\n"
     ]
    }
   ],
   "source": [
    "print(t.get('name'))\n",
    "print(t.get('age'))\n",
    "print(t.get('no'))"
   ]
  },
  {
   "cell_type": "code",
   "execution_count": 41,
   "metadata": {},
   "outputs": [
    {
     "name": "stdout",
     "output_type": "stream",
     "text": [
      "{'name': ('mama', 'papa', 'sista'), 'age': 20, 'sal': [24, 500, 48.56]}\n"
     ]
    }
   ],
   "source": [
    "print(t)"
   ]
  },
  {
   "cell_type": "code",
   "execution_count": 42,
   "metadata": {},
   "outputs": [
    {
     "name": "stdout",
     "output_type": "stream",
     "text": [
      "{'name': ('mama', 'papa', 'sista'), 'age': 20, 'sal': [24, 500, 48.56]}\n",
      "{'name': ('mama', 'papa', 'sista'), 'age': 20, 'sal': [24, 500, 48.56], 'no': 12}\n"
     ]
    }
   ],
   "source": [
    "print(t)\n",
    "t['no'] = 12\n",
    "print(t)"
   ]
  },
  {
   "cell_type": "code",
   "execution_count": 43,
   "metadata": {},
   "outputs": [
    {
     "name": "stdout",
     "output_type": "stream",
     "text": [
      "{'name': ('mama', 'papa', 'sista'), 'age': 20, 'sal': [24, 500, 48.56], 'no': 12}\n",
      "{'name': ('mama', 'papa', 'sista'), 'age': 20, 'sal': [24, 500, 48.56], 'no': [12, 78, 89, 450]}\n"
     ]
    }
   ],
   "source": [
    "print(t)\n",
    "t['no'] = [12,78,89,450]\n",
    "print(t)\n"
   ]
  },
  {
   "cell_type": "code",
   "execution_count": 44,
   "metadata": {},
   "outputs": [
    {
     "name": "stdout",
     "output_type": "stream",
     "text": [
      "{'name': ('mama', 'papa', 'sista'), 'age': 20, 'sal': [24, 500, 48.56], 'no': [12, 78, 89, 450]}\n",
      "{'name': ('mama', 'papa', 'sista'), 'age': 20, 'sal': [24, 500, 48.56], 'no': 'Bhargavi'}\n"
     ]
    }
   ],
   "source": [
    "print(t)\n",
    "t['no'] = \"Bhargavi\"\n",
    "print(t)"
   ]
  },
  {
   "cell_type": "code",
   "execution_count": 45,
   "metadata": {},
   "outputs": [
    {
     "name": "stdout",
     "output_type": "stream",
     "text": [
      "{'name': ('mama', 'papa', 'sista'), 'age': 20, 'sal': [24, 500, 48.56], 'no': 'Bhargavi'}\n",
      "{'name': ('mama', 'papa', 'sista'), 'age': 20, 'sal': [24, 500, 48.56], 'no': 'Bhargavi', 'tr': None}\n"
     ]
    }
   ],
   "source": [
    "print(t)\n",
    "t.setdefault('tr')\n",
    "print(t)"
   ]
  },
  {
   "cell_type": "code",
   "execution_count": 46,
   "metadata": {},
   "outputs": [
    {
     "name": "stdout",
     "output_type": "stream",
     "text": [
      "{'name': ('mama', 'papa', 'sista'), 'age': 20, 'sal': [24, 500, 48.56], 'no': 'Bhargavi', 'tr': None}\n"
     ]
    }
   ],
   "source": [
    "print(t)"
   ]
  },
  {
   "cell_type": "code",
   "execution_count": 47,
   "metadata": {},
   "outputs": [
    {
     "name": "stdout",
     "output_type": "stream",
     "text": [
      "{'name': ('mama', 'papa', 'sista'), 'age': 20, 'sal': [24, 500, 48.56], 'no': 'Bhargavi', 'tr': None}\n",
      "{'name': ('mama', 'papa', 'sista'), 'age': 20, 'sal': [24, 500, 48.56], 'no': 'Bhargavi', 'tr': None}\n"
     ]
    }
   ],
   "source": [
    "print(t)\n",
    "t.update()\n",
    "print(t)"
   ]
  },
  {
   "cell_type": "code",
   "execution_count": 50,
   "metadata": {},
   "outputs": [
    {
     "name": "stdout",
     "output_type": "stream",
     "text": [
      "{'name': ('mama', 'papa', 'sista'), 'age': 20, 'sal': [24, 500, 48.56], 'no': 'Bhargavi', 'tr': None}\n",
      "{'name': ('mama', 'papa', 'sista'), 'age': 20, 'sal': [24, 500, 48.56], 'no': 'Bhargavi', 'tr': 45}\n"
     ]
    }
   ],
   "source": [
    "print(t)\n",
    "t.update({'tr':45})\n",
    "print(t)"
   ]
  },
  {
   "cell_type": "code",
   "execution_count": 51,
   "metadata": {},
   "outputs": [
    {
     "name": "stdout",
     "output_type": "stream",
     "text": [
      "{'name': ('mama', 'papa', 'sista'), 'age': 20, 'sal': [24, 500, 48.56], 'no': 'Bhargavi', 'tr': 45}\n"
     ]
    }
   ],
   "source": [
    "print(t)"
   ]
  },
  {
   "cell_type": "code",
   "execution_count": 54,
   "metadata": {},
   "outputs": [
    {
     "name": "stdout",
     "output_type": "stream",
     "text": [
      "None\n"
     ]
    }
   ],
   "source": [
    "print(t.update({'tr':\"hima\"}))"
   ]
  },
  {
   "cell_type": "code",
   "execution_count": 55,
   "metadata": {},
   "outputs": [
    {
     "name": "stdout",
     "output_type": "stream",
     "text": [
      "{'name': ('mama', 'papa', 'sista'), 'age': 20, 'sal': [24, 500, 48.56], 'no': 'Bhargavi', 'tr': 'hima'}\n"
     ]
    }
   ],
   "source": [
    "print(t)"
   ]
  },
  {
   "cell_type": "code",
   "execution_count": 56,
   "metadata": {},
   "outputs": [
    {
     "name": "stdout",
     "output_type": "stream",
     "text": [
      "{'name': ('mama', 'papa', 'sista'), 'age': 20, 'sal': [24, 500, 48.56], 'no': 'Bhargavi', 'tr': 'hima'}\n",
      "20\n",
      "{'name': ('mama', 'papa', 'sista'), 'sal': [24, 500, 48.56], 'no': 'Bhargavi', 'tr': 'hima'}\n"
     ]
    }
   ],
   "source": [
    "print(t)\n",
    "print(t.pop('age'))\n",
    "print(t)"
   ]
  },
  {
   "cell_type": "code",
   "execution_count": 57,
   "metadata": {},
   "outputs": [
    {
     "name": "stdout",
     "output_type": "stream",
     "text": [
      "{'name': ('mama', 'papa', 'sista'), 'sal': [24, 500, 48.56], 'no': 'Bhargavi', 'tr': 'hima'}\n",
      "('tr', 'hima')\n",
      "{'name': ('mama', 'papa', 'sista'), 'sal': [24, 500, 48.56], 'no': 'Bhargavi'}\n"
     ]
    }
   ],
   "source": [
    "print(t)\n",
    "print(t.popitem())\n",
    "print(t)"
   ]
  },
  {
   "cell_type": "code",
   "execution_count": 59,
   "metadata": {
    "scrolled": true
   },
   "outputs": [
    {
     "name": "stdout",
     "output_type": "stream",
     "text": [
      "['name', 'age', 'sal']\n",
      "[12, 45, 7, 88, 78]\n",
      "{'name': 32, 'donar': 45}\n",
      "['name', 'age', 'sal']\n",
      "[12, 45, 7, 88, 78]\n"
     ]
    }
   ],
   "source": [
    "q = ['name','age','sal']\n",
    "w = [12,45,7,88,78]\n",
    "print(q)\n",
    "print(w)\n",
    "f = {'name':32,'donar':45}\n",
    "f.fromkeys(q)\n",
    "f.fromkeys(w)\n",
    "print(f)\n",
    "print(q)\n",
    "print(w)\n",
    "# syntax: fromkeys([],values)"
   ]
  },
  {
   "cell_type": "code",
   "execution_count": 61,
   "metadata": {},
   "outputs": [
    {
     "name": "stdout",
     "output_type": "stream",
     "text": [
      "['name', 'age', 'sal']\n",
      "78\n",
      "{}\n"
     ]
    }
   ],
   "source": [
    "q = ['name','age','sal']\n",
    "w = 78\n",
    "print(q)\n",
    "print(w)\n",
    "f = {}\n",
    "f.fromkeys(q,w)\n",
    "print(f)"
   ]
  },
  {
   "cell_type": "code",
   "execution_count": 62,
   "metadata": {},
   "outputs": [
    {
     "name": "stdout",
     "output_type": "stream",
     "text": [
      "{'name': 78, 'age': 78, 'sal': 78}\n"
     ]
    }
   ],
   "source": [
    "t = {'name':\"ramu\",'sno':1}\n",
    "t1 = {}\n",
    "t1 = t.fromkeys(q,w)\n",
    "print(t1)"
   ]
  },
  {
   "cell_type": "code",
   "execution_count": 64,
   "metadata": {},
   "outputs": [
    {
     "name": "stdout",
     "output_type": "stream",
     "text": [
      "{'Maths': [0, 45], 'Python': [0, 45], 'c++': [0, 45]}\n"
     ]
    }
   ],
   "source": [
    "marks = {}.fromkeys([\"Maths\",\"Python\",\"c++\"],[0,45])\n",
    "print(marks)"
   ]
  },
  {
   "cell_type": "code",
   "execution_count": null,
   "metadata": {},
   "outputs": [],
   "source": [
    "contact application:\n",
    "    \n",
    "    1.Enter new record\n",
    "    2.Display all records\n",
    "    3.update record\n",
    "    4.Delete Record\n",
    "    \n",
    "    1.ramu -> not exists\n",
    "       mobile numbers -> xxxxxxx\n",
    "    2. \n",
    "        name      mobile number\n",
    "        ramu      xxxxxxxxxx\n",
    "        rajesh    xxxxxxxxxx\n",
    "    3. ramu -> exist\n",
    "        mobile number -> xxxxxxxxxx\n",
    "    4. ramu -> exist\n",
    "        User deleted successfully\n",
    "        User doesnt exists\n",
    "    "
   ]
  },
  {
   "cell_type": "code",
   "execution_count": null,
   "metadata": {},
   "outputs": [],
   "source": [
    "1 Enter new contact\n",
    "2 Display all contacts\n",
    "3 Update contact\n",
    "4 Delete contact\n",
    "0 Exit\n",
    "\n",
    "    1  Enter your name : Bhargavi\n",
    "       Bhargavi Already Exists\n",
    "       Enter your mobile number : xxxxxxxxxx\n",
    "            \n",
    "    2  name       mobilenumber\n",
    "       Bhargavi   xxxxxxxxxx\n",
    "        \n",
    "    3  Enter your name : Bhargavi\n",
    "       Enter Updated mobile number : xxxxxxxxxx\n",
    "        \n",
    "       Bhargavi1\n",
    "       Bhargavi1 does not exist in your contact\n",
    "        \n",
    "    4 Enter your name : Bhargavi\n",
    "      Bhargavi record deleted successfully\n",
    "      Bhargavi doesnt exist in your contact"
   ]
  }
 ],
 "metadata": {
  "kernelspec": {
   "display_name": "Python 3",
   "language": "python",
   "name": "python3"
  },
  "language_info": {
   "codemirror_mode": {
    "name": "ipython",
    "version": 3
   },
   "file_extension": ".py",
   "mimetype": "text/x-python",
   "name": "python",
   "nbconvert_exporter": "python",
   "pygments_lexer": "ipython3",
   "version": "3.8.3"
  }
 },
 "nbformat": 4,
 "nbformat_minor": 4
}
