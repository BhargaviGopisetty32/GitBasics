{
 "cells": [
  {
   "cell_type": "markdown",
   "metadata": {},
   "source": [
    "# Functions:\n",
    "          - To perform a specific task\n",
    "          - Reusability of code\n",
    "          - Number of lines can be decreased\n",
    "          - Predefined Functions,User defined Functions"
   ]
  },
  {
   "cell_type": "markdown",
   "metadata": {},
   "source": [
    "## Predefined Functions\n",
    "      - already work has been allocated for it\n",
    "      - print(),range(),int(),str(),max()"
   ]
  },
  {
   "cell_type": "markdown",
   "metadata": {},
   "source": [
    "## User Defined Functions:\n",
    "      - We need to allocate work for a function\n",
    "      - syntax:\n",
    "             def function_name(arguments):\n",
    "                 //stmnts\n",
    "                 return return_value"
   ]
  },
  {
   "cell_type": "markdown",
   "metadata": {},
   "source": [
    "### Types of Functions:\n",
    "      - With return type and with arguments\n",
    "      - with return type and without arguments\n",
    "      - without return type and with arguments\n",
    "      - without return type and without arguments"
   ]
  },
  {
   "cell_type": "code",
   "execution_count": 5,
   "metadata": {},
   "outputs": [
    {
     "name": "stdout",
     "output_type": "stream",
     "text": [
      "20\n",
      "1 2 3 4 5 6 7 8 9 10 11 12 13 14 15 16 17 18 19 20 "
     ]
    }
   ],
   "source": [
    "# with return type and with argumnets\n",
    "# Reading - Function\n",
    "# Printing - Main\n",
    "# Logic - Function\n",
    "\n",
    "def printnumbers(k):\n",
    "    j = []\n",
    "    for b in range(1,k+1):\n",
    "        j.append(b)\n",
    "    return j\n",
    "\n",
    "n = int(input())\n",
    "for z in range(1,len(printnumbers(n))+1):\n",
    "    print(z,end= \" \")\n",
    "\n"
   ]
  },
  {
   "cell_type": "code",
   "execution_count": 6,
   "metadata": {},
   "outputs": [
    {
     "name": "stdout",
     "output_type": "stream",
     "text": [
      "20\n",
      "2 4 6 8 10 12 14 16 18 20 "
     ]
    }
   ],
   "source": [
    "# with return type and without argumnets\n",
    "# Reading - Function\n",
    "# Printing - Main\n",
    "# Logic - Function\n",
    "\n",
    "def evennumbers():\n",
    "    k,c = int(input()),[]\n",
    "    for b in range(1,k+1):\n",
    "        if b%2 == 0:\n",
    "            c.append(b)\n",
    "    return c\n",
    "\n",
    "for z in evennumbers():\n",
    "    print(z,end=\" \")"
   ]
  },
  {
   "cell_type": "code",
   "execution_count": 8,
   "metadata": {},
   "outputs": [
    {
     "name": "stdout",
     "output_type": "stream",
     "text": [
      "10\n",
      "1 3 5 7 9 "
     ]
    }
   ],
   "source": [
    "# without return type and with argumnets\n",
    "# Reading - Function\n",
    "# Printing - Main\n",
    "# Logic - Function\n",
    "\n",
    "def oddnumbers(m):\n",
    "    for i in range(1,m+1):\n",
    "        if i%2!=0:\n",
    "            print(i,end=\" \")\n",
    "    return\n",
    "\n",
    "b = int(input())\n",
    "oddnumbers(b)\n",
    "     \n",
    "    \n"
   ]
  },
  {
   "cell_type": "code",
   "execution_count": 10,
   "metadata": {},
   "outputs": [
    {
     "name": "stdout",
     "output_type": "stream",
     "text": [
      "20\n",
      "100\n",
      "15\n",
      "20 35 50 65 80 95 "
     ]
    }
   ],
   "source": [
    "# without return type and without argumnets\n",
    "# Reading - Function\n",
    "# Printing - Main\n",
    "# Logic - Function\n",
    "\n",
    "def skippingvalues():\n",
    "    n = int(input())\n",
    "    m = int(input())\n",
    "    s = int(input())\n",
    "    for j in range(n,m,s):\n",
    "        print(j,end=\" \")\n",
    "    return\n",
    "\n",
    "skippingvalues()\n"
   ]
  },
  {
   "cell_type": "markdown",
   "metadata": {},
   "source": [
    "# Task:\n",
    "```\n",
    "Input: 457996548895\n",
    "Output:\n",
    "      Given number is: 457996548895\n",
    "      Even numbers are: 4 6 8 8 \n",
    "      odd numbers are: 5 7 9 9 5 9 5\n",
    "      Left Half of Even numbers are: 4 6 \n",
    "      Right Half of Even numbers are: 4 8 8\n",
    "      Left Half of Even number sum is: 10\n",
    "      Right Half of Even number sum is: 20\n",
    "       ```"
   ]
  },
  {
   "cell_type": "markdown",
   "metadata": {},
   "source": [
    "## Arguments Types:\n",
    "      - Required arguments (or) Positional arguments\n",
    "      - Default arguments\n",
    "      - Keyword arguments\n",
    "      - Variable length arguments"
   ]
  },
  {
   "cell_type": "code",
   "execution_count": 14,
   "metadata": {},
   "outputs": [
    {
     "name": "stdout",
     "output_type": "stream",
     "text": [
      "Enter a name: Bhagi\n",
      "Enter an age: 18\n",
      "Your Name is: Bhagi\n",
      "Your age is: 18\n"
     ]
    }
   ],
   "source": [
    "# required arguments\n",
    "\n",
    "def student(a,n):\n",
    "    print(\"Your Name is: {}\\nYour age is: {}\".format(a,n))\n",
    "    return\n",
    "\n",
    "name = input(\"Enter a name: \")\n",
    "age = int(input(\"Enter an age: \"))\n",
    "student(name,age)"
   ]
  },
  {
   "cell_type": "code",
   "execution_count": 17,
   "metadata": {},
   "outputs": [
    {
     "name": "stdout",
     "output_type": "stream",
     "text": [
      "Enter Employment Name: Bhagi\n",
      "Employee Name is: Bhagi\n",
      "Employee Age is: 45\n",
      "Employee salary is: 45000\n"
     ]
    }
   ],
   "source": [
    "# Default arguments\n",
    "\n",
    "def employee(k,p=45,s=45000):\n",
    "    print(\"Employee Name is: {}\\nEmployee Age is: {}\\nEmployee salary is: {}\".format(k,p,s))\n",
    "    return\n",
    "\n",
    "n = input(\"Enter Employment Name: \")\n",
    "# m = int(input(\"Enter Employee Age: \"))\n",
    "employee(n)"
   ]
  },
  {
   "cell_type": "code",
   "execution_count": 20,
   "metadata": {},
   "outputs": [
    {
     "name": "stdout",
     "output_type": "stream",
     "text": [
      "Enter Your Collegename: PACE\n",
      "Enter Your Year: 2019\n",
      "Your Collegename is: 2019\n",
      "Your Year is: PACE\n"
     ]
    }
   ],
   "source": [
    "# Keyword argument\n",
    "\n",
    "def college(year,cname):\n",
    "    print(\"Your Collegename is: {}\\nYour Year is: {}\".format(cname,year))\n",
    "    return\n",
    "\n",
    "cname = input(\"Enter Your Collegename: \")\n",
    "year = int(input(\"Enter Your Year: \"))\n",
    "college(cname,year)"
   ]
  },
  {
   "cell_type": "code",
   "execution_count": 22,
   "metadata": {},
   "outputs": [
    {
     "name": "stdout",
     "output_type": "stream",
     "text": [
      "Enter your Collegename: PACE\n",
      "Enter your year: 2019\n",
      "Your Collegename is: PACE\n",
      "Your Year is: 2019\n"
     ]
    }
   ],
   "source": [
    "# Keyword argument\n",
    "\n",
    "def college(y,c):\n",
    "    print(\"Your Collegename is: {}\\nYour Year is: {}\".format(c,y))\n",
    "    return\n",
    "\n",
    "#cname = input(\"Enter Your Collegename: \")\n",
    "#year = int(input(\"Enter Your Year: \"))\n",
    "college(c=input(\"Enter your Collegename: \"),y=int(input(\"Enter your year: \")))"
   ]
  },
  {
   "cell_type": "code",
   "execution_count": 24,
   "metadata": {},
   "outputs": [
    {
     "name": "stdout",
     "output_type": "stream",
     "text": [
      "1 6 7 897 77\n",
      "(['1', '6', '7', '897', '77'],) <class 'tuple'>\n"
     ]
    }
   ],
   "source": [
    "# Variable Length Arguments:\n",
    " \n",
    "def number(*p):\n",
    "    print(p,type(p))\n",
    "    return\n",
    "\n",
    "#b = int(input())\n",
    "k = input().split()\n",
    "number(k)"
   ]
  },
  {
   "cell_type": "code",
   "execution_count": 7,
   "metadata": {},
   "outputs": [
    {
     "name": "stdout",
     "output_type": "stream",
     "text": [
      "4\n",
      "56\n",
      "4\n",
      "4 <class 'int'>\n",
      "('56', '4') <class 'tuple'>\n",
      "60\n"
     ]
    }
   ],
   "source": [
    "# Variable Length Arguments:\n",
    " \n",
    "def number(y,*p):\n",
    "    print(y,type(y))\n",
    "    print(p,type(p))\n",
    "    b = []\n",
    "    for i in p:\n",
    "        b.append(int(i))\n",
    "    print(sum(b))\n",
    "    return\n",
    "\n",
    "b = int(input())\n",
    "k = input()\n",
    "g = input()\n",
    "number(b,k,g)"
   ]
  },
  {
   "cell_type": "code",
   "execution_count": 1,
   "metadata": {},
   "outputs": [
    {
     "name": "stdout",
     "output_type": "stream",
     "text": [
      "Bhargavi\n",
      "8757454457\n",
      "18\n",
      "25000000\n",
      "{'Bhargavi': (8757454457, 18, 25000000)}\n"
     ]
    }
   ],
   "source": [
    "c = {}\n",
    "def contact(name,*t):\n",
    "    c[name] = t\n",
    "    return c\n",
    "\n",
    "name = input()\n",
    "mobile = int(input())\n",
    "age = int(input())\n",
    "sal = int(input())\n",
    "contact(name,mobile,age,sal)\n",
    "print(c)"
   ]
  },
  {
   "cell_type": "code",
   "execution_count": null,
   "metadata": {},
   "outputs": [],
   "source": []
  }
 ],
 "metadata": {
  "kernelspec": {
   "display_name": "Python 3",
   "language": "python",
   "name": "python3"
  },
  "language_info": {
   "codemirror_mode": {
    "name": "ipython",
    "version": 3
   },
   "file_extension": ".py",
   "mimetype": "text/x-python",
   "name": "python",
   "nbconvert_exporter": "python",
   "pygments_lexer": "ipython3",
   "version": "3.8.3"
  }
 },
 "nbformat": 4,
 "nbformat_minor": 4
}
