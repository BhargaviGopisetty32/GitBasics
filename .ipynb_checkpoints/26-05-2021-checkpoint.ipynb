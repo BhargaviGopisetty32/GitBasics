{
 "cells": [
  {
   "cell_type": "markdown",
   "metadata": {},
   "source": [
    "### Hi Welcome👍😊"
   ]
  },
  {
   "cell_type": "markdown",
   "metadata": {},
   "source": [
    "## Output:\n",
    "         - %\n",
    "         - , +\n",
    "         - .format"
   ]
  },
  {
   "cell_type": "code",
   "execution_count": 4,
   "metadata": {},
   "outputs": [
    {
     "name": "stdout",
     "output_type": "stream",
     "text": [
      "Enter a value: 15\n",
      "Enter a name: Bhargavi\n",
      "Entered number is: 15\n",
      "Entered name is: Bhargavi\n"
     ]
    }
   ],
   "source": [
    "n = int(input(\"Enter a value: \"))\n",
    "m = input(\"Enter a name: \")\n",
    "print(\"Entered number is: %d\"%n)\n",
    "print(\"Entered name is: %s\"%m)"
   ]
  },
  {
   "cell_type": "code",
   "execution_count": 6,
   "metadata": {},
   "outputs": [
    {
     "name": "stdout",
     "output_type": "stream",
     "text": [
      "Entered number is: 15 and Entered name is: Bhargavi\n"
     ]
    }
   ],
   "source": [
    "print(\"Entered number is: %d and Entered name is: %s\"%(n,m))"
   ]
  },
  {
   "cell_type": "code",
   "execution_count": 8,
   "metadata": {},
   "outputs": [
    {
     "name": "stdout",
     "output_type": "stream",
     "text": [
      "Entered number is: 15 and Enterd name is: Bhargavi\n",
      "Entered number is: 15 and Enterd name is: Bhargavi\n",
      "Entered name is: Bhargavi and Enterd number is: 15\n"
     ]
    }
   ],
   "source": [
    "print(\"Entered number is: {} and Enterd name is: {}\".format(n,m))\n",
    "print(\"Entered number is: {0} and Enterd name is: {1}\".format(n,m))\n",
    "print(\"Entered name is: {1} and Enterd number is: {0}\".format(n,m))"
   ]
  },
  {
   "cell_type": "markdown",
   "metadata": {},
   "source": [
    "## Operators\n",
    "         - Arithmetic -> +,-,*,/,%,floor(// -> Exact integer),exponential (** => pow())\n",
    "         - Logical -> AND,OR,NOT\n",
    "         - Bitwise -> &&,||,>>,<<\n",
    "         - Relational -> ==,!=,>=,<=,>,<\n",
    "         - Assignment -> +=,-=,*=,/=,%=\n",
    "         - Membership -> in,not in\n",
    "         - Identity -> is,is not"
   ]
  },
  {
   "cell_type": "code",
   "execution_count": 9,
   "metadata": {},
   "outputs": [
    {
     "name": "stdout",
     "output_type": "stream",
     "text": [
      "5\n"
     ]
    }
   ],
   "source": [
    "a = 20\n",
    "print(a>>2)"
   ]
  },
  {
   "cell_type": "markdown",
   "metadata": {},
   "source": [
    "# Conditional Statements\n",
    "         - To Check whether a given condition is either  True or False\n",
    "         - if,nested if,if-else,elif ladder"
   ]
  },
  {
   "cell_type": "markdown",
   "metadata": {},
   "source": [
    "## If -> Single Case[T or F]\n",
    "```\n",
    "   Syntax:\n",
    "       if(condition):\n",
    "          //stmnt\n",
    "          ```"
   ]
  },
  {
   "cell_type": "code",
   "execution_count": 11,
   "metadata": {},
   "outputs": [
    {
     "name": "stdout",
     "output_type": "stream",
     "text": [
      "45\n",
      "Entered value is: 45\n"
     ]
    }
   ],
   "source": [
    "n = int(input())\n",
    "if n == 45:\n",
    "    print(\"Entered value is: {}\".format(n))"
   ]
  },
  {
   "cell_type": "markdown",
   "metadata": {},
   "source": [
    "## If-else -> Two cases[T or F]\n",
    "```\n",
    "    Syntax:\n",
    "        if(condition-1):\n",
    "           //True statement\n",
    "        else:\n",
    "           //False statement\n",
    "           ```"
   ]
  },
  {
   "cell_type": "code",
   "execution_count": 12,
   "metadata": {},
   "outputs": [
    {
     "name": "stdout",
     "output_type": "stream",
     "text": [
      "5\n",
      "7\n",
      "Entered value 5 is not equal to 7\n"
     ]
    }
   ],
   "source": [
    "k = int(input())\n",
    "m = int(input())\n",
    "if k == m:\n",
    "    print(\"Entered values {} and {} are Equal\".format(k,m))\n",
    "else:\n",
    "    print(\"Entered value {} is not equal to {}\".format(k,m))"
   ]
  },
  {
   "cell_type": "markdown",
   "metadata": {},
   "source": [
    "## Nested if [if within an if]  -> One or More Cases\n",
    "```\n",
    "   Syntax:\n",
    "       if(condition-1):\n",
    "          if(condition-2):\n",
    "             //stmnt-1\n",
    "             \n",
    "        else optional case    \n",
    "        if(condition-1):\n",
    "           if(condition-2):\n",
    "              //stmnt-1\n",
    "           else:\n",
    "              //stmnt-2\n",
    "        else:\n",
    "            //stmnt-3\n",
    "           ```\n",
    "       "
   ]
  },
  {
   "cell_type": "code",
   "execution_count": 13,
   "metadata": {},
   "outputs": [
    {
     "name": "stdout",
     "output_type": "stream",
     "text": [
      "100\n",
      "Entered value 100 is equal to 100\n"
     ]
    }
   ],
   "source": [
    "n = int(input())\n",
    "if(n<=200):\n",
    "    if(n==100):\n",
    "        print(\"Entered value {} is equal to 100\".format(n))\n",
    "    else:\n",
    "        print(\"Entered value {} is not equal to 100 but it is lower than 200\".format(n))\n",
    "else:\n",
    "    print(\"Entered value {} is greater than 200\".format(n))"
   ]
  },
  {
   "cell_type": "markdown",
   "metadata": {},
   "source": [
    "## Elif -> Two or n more cases\n",
    "```\n",
    "   Syntax:\n",
    "      if(condition-1):\n",
    "           //stmnt-1\n",
    "      elif(condition-2):\n",
    "           //stmnt-2\n",
    "      elif(condition-n):\n",
    "           //stmnt-n\n",
    "           |||||\n",
    "      else:\n",
    "           //stmnt-(n+1)\n",
    "           ```"
   ]
  },
  {
   "cell_type": "code",
   "execution_count": 14,
   "metadata": {},
   "outputs": [
    {
     "name": "stdout",
     "output_type": "stream",
     "text": [
      "30\n",
      "Entered value 30 is divisible by 2\n"
     ]
    }
   ],
   "source": [
    "h = int(input())\n",
    "if h%4 == 0:\n",
    "    print(\"Entered value {} is divisible by 4\".format(h))\n",
    "elif h%2 == 0 and h%4 == 0:\n",
    "    print(\"Entered value {} is divisible by 2\".format(h))\n",
    "elif h%2==0:\n",
    "    print(\"Entered value {} is divisible by 2\".format(h))\n",
    "else:\n",
    "    print(\"Entered value {} is not divisible by 2\".format(h))"
   ]
  },
  {
   "cell_type": "markdown",
   "metadata": {},
   "source": [
    "## Control statements\n",
    "```  \n",
    "      - To Control the flow of Execution\n",
    "      - For,while\n",
    "      ```"
   ]
  },
  {
   "cell_type": "markdown",
   "metadata": {},
   "source": [
    "## For -> For Particular Range ==> [Know Ranges]\n",
    "```\n",
    "    Syntax:\n",
    "        for iteration_variable in Iterator:\n",
    "             //stmnts\n",
    "        for iteration_variable in range():\n",
    "             //stmnts\n",
    "             ```"
   ]
  },
  {
   "cell_type": "markdown",
   "metadata": {},
   "source": [
    "### Range\n",
    "```\n",
    "   range(n):\n",
    "      -> By default it starts from 0 to n-1\n",
    "      => range(5) => 0,1,2,3,4\n",
    "   range(n,m):\n",
    "      -> Start range will starts from exactly at n and stops at m-1\n",
    "      => range(4,8) => 4,5,6,7\n",
    "   range(n,m,s):\n",
    "      -> Start range will starts from exactly at n and stops at m-1 and stepping to s\n",
    "      => range(4,10,2) => 4,6,8\n",
    "      ```"
   ]
  },
  {
   "cell_type": "code",
   "execution_count": 15,
   "metadata": {},
   "outputs": [
    {
     "name": "stdout",
     "output_type": "stream",
     "text": [
      "Enter a range value: 5\n",
      "0\n",
      "1\n",
      "2\n",
      "3\n",
      "4\n"
     ]
    }
   ],
   "source": [
    "n = int(input(\"Enter a range value: \"))\n",
    "for b in range(n):\n",
    "    print(b)"
   ]
  },
  {
   "cell_type": "code",
   "execution_count": 16,
   "metadata": {},
   "outputs": [
    {
     "name": "stdout",
     "output_type": "stream",
     "text": [
      "Enter a range value: 7\n",
      "0,1,2,3,4,5,6,"
     ]
    }
   ],
   "source": [
    "n = int(input(\"Enter a range value: \"))\n",
    "for b in range(n):\n",
    "    print(b,end=\",\")"
   ]
  },
  {
   "cell_type": "code",
   "execution_count": 19,
   "metadata": {},
   "outputs": [
    {
     "name": "stdout",
     "output_type": "stream",
     "text": [
      "Enter a starting range value: 5\n",
      "Enter a Ending range value: 9\n",
      "5,6,7,8,"
     ]
    }
   ],
   "source": [
    "n = int(input(\"Enter a starting range value: \"))\n",
    "m = int(input(\"Enter a Ending range value: \"))\n",
    "for b in range(n,m):\n",
    "    print(b,end=\",\")"
   ]
  },
  {
   "cell_type": "code",
   "execution_count": 20,
   "metadata": {},
   "outputs": [
    {
     "name": "stdout",
     "output_type": "stream",
     "text": [
      "Enter a starting range value: 100\n",
      "Enter a Ending range value: 300\n",
      "Enter a stepping value: 50\n",
      "100,150,200,250,"
     ]
    }
   ],
   "source": [
    "n = int(input(\"Enter a starting range value: \"))\n",
    "m = int(input(\"Enter a Ending range value: \"))\n",
    "s = int(input(\"Enter a stepping value: \"))\n",
    "for b in range(n,m,s):\n",
    "    print(b,end=\",\")"
   ]
  },
  {
   "cell_type": "code",
   "execution_count": 3,
   "metadata": {},
   "outputs": [
    {
     "name": "stdout",
     "output_type": "stream",
     "text": [
      "Enter a starting range value: 2\n",
      "Enter a Ending range value: 10\n",
      "Enter a stepping value: 2\n",
      "10,8,6,4,"
     ]
    }
   ],
   "source": [
    "n = int(input(\"Enter a starting range value: \"))\n",
    "m = int(input(\"Enter a Ending range value: \"))\n",
    "s = int(input(\"Enter a stepping value: \"))\n",
    "for b in range(m,n,-s):\n",
    "    print(b,end=\",\")"
   ]
  },
  {
   "cell_type": "code",
   "execution_count": 4,
   "metadata": {},
   "outputs": [
    {
     "name": "stdout",
     "output_type": "stream",
     "text": [
      "1\n",
      "10\n",
      "6 5 4 3 2 1 0 -1 -2 "
     ]
    }
   ],
   "source": [
    "p = int(input())\n",
    "k = int(input())\n",
    "for a in range(p,k):\n",
    "    print(k-a-3,end=\" \")"
   ]
  },
  {
   "cell_type": "code",
   "execution_count": null,
   "metadata": {},
   "outputs": [],
   "source": []
  }
 ],
 "metadata": {
  "kernelspec": {
   "display_name": "Python 3",
   "language": "python",
   "name": "python3"
  },
  "language_info": {
   "codemirror_mode": {
    "name": "ipython",
    "version": 3
   },
   "file_extension": ".py",
   "mimetype": "text/x-python",
   "name": "python",
   "nbconvert_exporter": "python",
   "pygments_lexer": "ipython3",
   "version": "3.8.3"
  }
 },
 "nbformat": 4,
 "nbformat_minor": 4
}
