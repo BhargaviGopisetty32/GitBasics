{
 "cells": [
  {
   "cell_type": "markdown",
   "metadata": {},
   "source": [
    "## Python Iterators,Data types,Data structures:\n",
    " \n",
    "  - List\n",
    "  - Tuple\n",
    "  - Set\n",
    "  - Dictionary"
   ]
  },
  {
   "cell_type": "markdown",
   "metadata": {},
   "source": [
    "# List:\n",
    "      - Different data type elements to store\n",
    "      - It can be defined as \"[]\" and type casting as \"list()\"\n",
    "      - It consists of index so slicing can be done\n",
    "      - It stores the value in given format\n",
    "      - In this the values can be changes"
   ]
  },
  {
   "cell_type": "markdown",
   "metadata": {},
   "source": [
    "# Tuple:\n",
    "      \n",
    "      - It can stores different data type elements\n",
    "      - It can be defined as \"()\" and type casting as \"tuple()\"\n",
    "      - It consists of index and slicing can be done\n",
    "      - It stores the value in given format\n",
    "      - In this the values can't be changed\n",
    "      - It can stores duplicate elements"
   ]
  },
  {
   "cell_type": "markdown",
   "metadata": {},
   "source": [
    "# Set:\n",
    "      - It can stores different data type elements\n",
    "      - It can be defined as \"{}\" and type casting as \"set()\" => {a} => set\n",
    "      - It doesn't consists of index and slicing can't be done\n",
    "      - It stores the value in given format but it prints in alphabetiacl order\n",
    "      - In this the values can be changes\n",
    "      - It can stores the duplicate elements"
   ]
  },
  {
   "cell_type": "markdown",
   "metadata": {},
   "source": [
    "# Dictionary: \n",
    "      - It can stores the different data type elements but it follows key and value pairs\n",
    "      - It can be defined as \"{}\" by default as type casting as \"dict()\"\n",
    "      - It consists of index but it can be applicate for either keys or values and slicing can be done\n",
    "      - It stores the value in given format\n",
    "      - In this the values can be changed\n",
    "      - It cant stores the duplicate keys but it stores duplicate values"
   ]
  },
  {
   "cell_type": "markdown",
   "metadata": {},
   "source": [
    "# List:"
   ]
  },
  {
   "cell_type": "code",
   "execution_count": 1,
   "metadata": {},
   "outputs": [
    {
     "data": {
      "text/plain": [
       "[23, 45.26, 'Bhagi', 23, 'Hima']"
      ]
     },
     "execution_count": 1,
     "metadata": {},
     "output_type": "execute_result"
    }
   ],
   "source": [
    "k = [23,45.26,\"Bhagi\",23,\"Hima\"]\n",
    "k"
   ]
  },
  {
   "cell_type": "code",
   "execution_count": 5,
   "metadata": {},
   "outputs": [
    {
     "name": "stdout",
     "output_type": "stream",
     "text": [
      "[23, 45.26, 'Bhagi', 23, 'Hima'] <class 'list'>\n"
     ]
    }
   ],
   "source": [
    "k = [23,45.26,\"Bhagi\",23,\"Hima\"]\n",
    "print(k,type(k))"
   ]
  },
  {
   "cell_type": "code",
   "execution_count": 6,
   "metadata": {},
   "outputs": [
    {
     "name": "stdout",
     "output_type": "stream",
     "text": [
      "<class 'int'>\n"
     ]
    }
   ],
   "source": [
    "a = 15\n",
    "print(type(a))"
   ]
  },
  {
   "cell_type": "code",
   "execution_count": 11,
   "metadata": {},
   "outputs": [
    {
     "name": "stdout",
     "output_type": "stream",
     "text": [
      "Bhagi\n",
      "23\n"
     ]
    }
   ],
   "source": [
    "print(k[2])\n",
    "print(k[-2])"
   ]
  },
  {
   "cell_type": "code",
   "execution_count": 12,
   "metadata": {},
   "outputs": [
    {
     "name": "stdout",
     "output_type": "stream",
     "text": [
      "<class 'list'>\n"
     ]
    }
   ],
   "source": [
    "print(type(k))\n"
   ]
  },
  {
   "cell_type": "code",
   "execution_count": 13,
   "metadata": {},
   "outputs": [
    {
     "name": "stdout",
     "output_type": "stream",
     "text": [
      "['__add__', '__class__', '__contains__', '__delattr__', '__delitem__', '__dir__', '__doc__', '__eq__', '__format__', '__ge__', '__getattribute__', '__getitem__', '__gt__', '__hash__', '__iadd__', '__imul__', '__init__', '__init_subclass__', '__iter__', '__le__', '__len__', '__lt__', '__mul__', '__ne__', '__new__', '__reduce__', '__reduce_ex__', '__repr__', '__reversed__', '__rmul__', '__setattr__', '__setitem__', '__sizeof__', '__str__', '__subclasshook__', 'append', 'clear', 'copy', 'count', 'extend', 'index', 'insert', 'pop', 'remove', 'reverse', 'sort']\n"
     ]
    }
   ],
   "source": [
    "print(dir(k))"
   ]
  },
  {
   "cell_type": "code",
   "execution_count": 14,
   "metadata": {},
   "outputs": [
    {
     "name": "stdout",
     "output_type": "stream",
     "text": [
      "['__add__', '__class__', '__contains__', '__delattr__', '__delitem__', '__dir__', '__doc__', '__eq__', '__format__', '__ge__', '__getattribute__', '__getitem__', '__gt__', '__hash__', '__iadd__', '__imul__', '__init__', '__init_subclass__', '__iter__', '__le__', '__len__', '__lt__', '__mul__', '__ne__', '__new__', '__reduce__', '__reduce_ex__', '__repr__', '__reversed__', '__rmul__', '__setattr__', '__setitem__', '__sizeof__', '__str__', '__subclasshook__', 'append', 'clear', 'copy', 'count', 'extend', 'index', 'insert', 'pop', 'remove', 'reverse', 'sort']\n"
     ]
    }
   ],
   "source": [
    "print(dir(list))"
   ]
  },
  {
   "cell_type": "code",
   "execution_count": 3,
   "metadata": {},
   "outputs": [
    {
     "name": "stdout",
     "output_type": "stream",
     "text": [
      "[45, 78.56]\n",
      "Bhagi\n",
      "[45, 78.56, 'Bhagi']\n"
     ]
    }
   ],
   "source": [
    "m = [45,78.56]\n",
    "print(m)\n",
    "n = input()\n",
    "m.append(n)\n",
    "print(m)"
   ]
  },
  {
   "cell_type": "code",
   "execution_count": 1,
   "metadata": {},
   "outputs": [
    {
     "name": "stdout",
     "output_type": "stream",
     "text": [
      "[45, 78.56]\n",
      "45\n",
      "[45, 78.56, 45]\n"
     ]
    }
   ],
   "source": [
    "m = [45,78.56]\n",
    "print(m)\n",
    "n = input()\n",
    "m.append(int(n))\n",
    "print(m)"
   ]
  },
  {
   "cell_type": "code",
   "execution_count": 3,
   "metadata": {},
   "outputs": [
    {
     "name": "stdout",
     "output_type": "stream",
     "text": [
      "['Madhu', 45, 148, 45.2] <class 'list'>\n",
      "['Madhu', 45, 148, 45.2]\n",
      "['Madhu', 45, 148, 45.2, 'Sandhya']\n",
      "['Madhu', 45, 148, 45.2]\n",
      "['Madhu', 45, 148, 45.2, 'Sandhya']\n",
      "['Madhu', 45, 148, 45.2, 'kasini']\n"
     ]
    }
   ],
   "source": [
    "n = [\"Madhu\",45,148,45.20]\n",
    "b = n.copy()\n",
    "print(b,type(b))\n",
    "print(n)\n",
    "n.append(\"Sandhya\")\n",
    "print(n)\n",
    "print(b)\n",
    "b.append(\"kasini\")\n",
    "print(n)\n",
    "print(b)\n"
   ]
  },
  {
   "cell_type": "code",
   "execution_count": 4,
   "metadata": {},
   "outputs": [
    {
     "name": "stdout",
     "output_type": "stream",
     "text": [
      "12\n",
      "15\n",
      "12\n",
      "78\n",
      "Bhagi\n",
      "89\n",
      "Hima\n"
     ]
    }
   ],
   "source": [
    "p = [12,15,12,78,'Bhagi',89,'Hima']\n",
    "# print(p.count(1))\n",
    "# print(p.count(12))\n",
    "for n in p:\n",
    "    print(n)\n"
   ]
  },
  {
   "cell_type": "code",
   "execution_count": 5,
   "metadata": {},
   "outputs": [
    {
     "name": "stdout",
     "output_type": "stream",
     "text": [
      "0\n",
      "1\n",
      "2\n",
      "3\n",
      "4\n",
      "5\n",
      "6\n"
     ]
    }
   ],
   "source": [
    "for b in range(len(p)):\n",
    "    print(b)"
   ]
  },
  {
   "cell_type": "code",
   "execution_count": 6,
   "metadata": {},
   "outputs": [
    {
     "name": "stdout",
     "output_type": "stream",
     "text": [
      "12 count is: 2\n",
      "15 count is: 1\n",
      "12 count is: 2\n",
      "78 count is: 1\n",
      "Bhagi count is: 1\n",
      "89 count is: 1\n",
      "Hima count is: 1\n"
     ]
    }
   ],
   "source": [
    "p = [12,15,12,78,'Bhagi',89,'Hima']\n",
    "# print(p.count(1))\n",
    "# print(p.count(12))\n",
    "for n in p:\n",
    "    print(\"{} count is: {}\".format(n,p.count(n)))\n"
   ]
  },
  {
   "cell_type": "code",
   "execution_count": 7,
   "metadata": {},
   "outputs": [
    {
     "name": "stdout",
     "output_type": "stream",
     "text": [
      "[78, 89.1234, 'Prakeerth', 'Sai', 'veda', 'kasini']\n",
      "['Sai', 'veda', 'kasini']\n"
     ]
    }
   ],
   "source": [
    "v = [78,89.1234,\"Prakeerth\"]\n",
    "b = [\"Sai\",\"veda\",\"kasini\"]\n",
    "v.extend(b)\n",
    "print(v)\n",
    "print(b)"
   ]
  },
  {
   "cell_type": "code",
   "execution_count": 9,
   "metadata": {},
   "outputs": [
    {
     "name": "stdout",
     "output_type": "stream",
     "text": [
      "[78, 89.1234, 'Prakeerth', 'Sriram', 'veda', 'kasini']\n",
      "['Sriram', 'veda', 'kasini']\n",
      "[78, 89.1234, 'Prakeerth', 'Sriram', 'veda', 'kasini']\n",
      "['Sriram', 'veda', 'kasini', 200]\n"
     ]
    }
   ],
   "source": [
    "v = [78,89.1234,\"Prakeerth\"]\n",
    "b = [\"Sriram\",\"veda\",\"kasini\"]\n",
    "v.extend(b)\n",
    "print(v)\n",
    "print(b)\n",
    "b.append(200)\n",
    "print(v)\n",
    "print(b)"
   ]
  },
  {
   "cell_type": "code",
   "execution_count": 21,
   "metadata": {},
   "outputs": [
    {
     "name": "stdout",
     "output_type": "stream",
     "text": [
      "2\n"
     ]
    }
   ],
   "source": [
    "print(v.index(\"Prakeerth\"))"
   ]
  },
  {
   "cell_type": "code",
   "execution_count": 13,
   "metadata": {},
   "outputs": [
    {
     "name": "stdout",
     "output_type": "stream",
     "text": [
      "['Rajesh', 12, 15, 19, 750]\n"
     ]
    }
   ],
   "source": [
    "x = [12,15,19,750]\n",
    "x.insert(0,\"Rajesh\")\n",
    "print(x)"
   ]
  },
  {
   "cell_type": "code",
   "execution_count": 15,
   "metadata": {
    "scrolled": true
   },
   "outputs": [
    {
     "name": "stdout",
     "output_type": "stream",
     "text": [
      "Built-in mutable sequence.\n",
      "\n",
      "If no argument is given, the constructor creates a new empty list.\n",
      "The argument must be an iterable if specified.\n"
     ]
    }
   ],
   "source": [
    "print(list.__doc__)"
   ]
  },
  {
   "cell_type": "code",
   "execution_count": 16,
   "metadata": {
    "scrolled": true
   },
   "outputs": [
    {
     "name": "stdout",
     "output_type": "stream",
     "text": [
      "Insert object before index.\n"
     ]
    }
   ],
   "source": [
    "print(list.insert.__doc__)"
   ]
  },
  {
   "cell_type": "code",
   "execution_count": 17,
   "metadata": {},
   "outputs": [
    {
     "name": "stdout",
     "output_type": "stream",
     "text": [
      "Return number of occurrences of value.\n"
     ]
    }
   ],
   "source": [
    "print(list.count.__doc__)"
   ]
  },
  {
   "cell_type": "code",
   "execution_count": 18,
   "metadata": {},
   "outputs": [
    {
     "data": {
      "text/plain": [
       "['Rajesh', 12, 15, 19, 750]"
      ]
     },
     "execution_count": 18,
     "metadata": {},
     "output_type": "execute_result"
    }
   ],
   "source": [
    "x"
   ]
  },
  {
   "cell_type": "code",
   "execution_count": 19,
   "metadata": {
    "scrolled": true
   },
   "outputs": [
    {
     "name": "stdout",
     "output_type": "stream",
     "text": [
      "Help on method_descriptor:\n",
      "\n",
      "insert(self, index, object, /)\n",
      "    Insert object before index.\n",
      "\n"
     ]
    }
   ],
   "source": [
    "help(list.insert)"
   ]
  },
  {
   "cell_type": "code",
   "execution_count": 28,
   "metadata": {},
   "outputs": [
    {
     "name": "stdout",
     "output_type": "stream",
     "text": [
      "['Rajesh', '12', '15', '19', '750']\n"
     ]
    }
   ],
   "source": [
    "x = [\"Rajesh\",\"12\",\"15\",\"19\",\"750\"]\n",
    "print(x)"
   ]
  },
  {
   "cell_type": "code",
   "execution_count": 29,
   "metadata": {},
   "outputs": [
    {
     "name": "stdout",
     "output_type": "stream",
     "text": [
      "['Rajesh', '12', '15', '19', '750']\n",
      "['Rajesh', '12', '15', '19']\n"
     ]
    }
   ],
   "source": [
    "print(x)\n",
    "x.pop()\n",
    "print(x)"
   ]
  },
  {
   "cell_type": "code",
   "execution_count": 30,
   "metadata": {},
   "outputs": [
    {
     "data": {
      "text/plain": [
       "'12'"
      ]
     },
     "execution_count": 30,
     "metadata": {},
     "output_type": "execute_result"
    }
   ],
   "source": [
    "x.pop(1)"
   ]
  },
  {
   "cell_type": "code",
   "execution_count": 27,
   "metadata": {
    "scrolled": true
   },
   "outputs": [
    {
     "name": "stdout",
     "output_type": "stream",
     "text": [
      "Rajesh\n"
     ]
    }
   ],
   "source": [
    "print(x)"
   ]
  },
  {
   "cell_type": "code",
   "execution_count": 4,
   "metadata": {},
   "outputs": [
    {
     "name": "stdout",
     "output_type": "stream",
     "text": [
      "[45, 89.12, 76, 'prasad', 'srilatha', 'ramesh']\n"
     ]
    }
   ],
   "source": [
    "y = [45,89.12,76,\"prasad\",\"srilatha\",\"ramesh\"]\n",
    "print(y)"
   ]
  },
  {
   "cell_type": "code",
   "execution_count": 7,
   "metadata": {},
   "outputs": [
    {
     "name": "stdout",
     "output_type": "stream",
     "text": [
      "[45, 89.12, 76, 'prasad', 'srilatha', 'ramesh']\n",
      "[45, 89.12, 'prasad', 'srilatha', 'ramesh']\n"
     ]
    }
   ],
   "source": [
    "print(y)\n",
    "y.remove(76)\n",
    "print(y)"
   ]
  },
  {
   "cell_type": "code",
   "execution_count": 8,
   "metadata": {},
   "outputs": [
    {
     "name": "stdout",
     "output_type": "stream",
     "text": [
      "[45, 89.12, 'prasad', 'srilatha', 'ramesh']\n",
      "['ramesh', 'srilatha', 'prasad', 89.12, 45]\n"
     ]
    }
   ],
   "source": [
    "print(y)\n",
    "y.reverse()\n",
    "print(y)"
   ]
  },
  {
   "cell_type": "code",
   "execution_count": 9,
   "metadata": {
    "scrolled": true
   },
   "outputs": [
    {
     "name": "stdout",
     "output_type": "stream",
     "text": [
      "[45, 2, 200, 1]\n",
      "[1, 2, 45, 200]\n"
     ]
    }
   ],
   "source": [
    "p = [45,2,200,1]\n",
    "print(p)\n",
    "p.sort()\n",
    "print(p)"
   ]
  },
  {
   "cell_type": "code",
   "execution_count": 10,
   "metadata": {},
   "outputs": [
    {
     "name": "stdout",
     "output_type": "stream",
     "text": [
      "[45, 2, 200, 1]\n",
      "[1, 2, 45, 200]\n"
     ]
    }
   ],
   "source": [
    "p = [45,2,200,1]\n",
    "print(p)\n",
    "p.sort()\n",
    "print(p)"
   ]
  },
  {
   "cell_type": "code",
   "execution_count": 8,
   "metadata": {},
   "outputs": [
    {
     "name": "stdout",
     "output_type": "stream",
     "text": [
      "[45, 12, 40.125, 0.123]\n",
      "[0.123, 12, 40.125, 45]\n"
     ]
    }
   ],
   "source": [
    "k = [45,12,40.125,0.1230]\n",
    "print(k)\n",
    "k.sort()\n",
    "print(k)"
   ]
  },
  {
   "cell_type": "code",
   "execution_count": 25,
   "metadata": {},
   "outputs": [
    {
     "name": "stdout",
     "output_type": "stream",
     "text": [
      "['abdul', 'tilak', 'ramu', 'zeeshan']\n",
      "['abdul', 'ramu', 'tilak', 'zeeshan']\n"
     ]
    }
   ],
   "source": [
    "s = [\"abdul\",\"tilak\",\"ramu\",\"zeeshan\"]\n",
    "print(s)\n",
    "s.sort()\n",
    "print(s)"
   ]
  },
  {
   "cell_type": "code",
   "execution_count": 26,
   "metadata": {},
   "outputs": [
    {
     "data": {
      "text/plain": [
       "['abdul', 'ramu', 'tilak', 'zeeshan']"
      ]
     },
     "execution_count": 26,
     "metadata": {},
     "output_type": "execute_result"
    }
   ],
   "source": [
    "sorted(s)"
   ]
  },
  {
   "cell_type": "code",
   "execution_count": 27,
   "metadata": {},
   "outputs": [
    {
     "name": "stdout",
     "output_type": "stream",
     "text": [
      "['abdul', 'ramu', 'tilak', 'zeeshan']\n"
     ]
    }
   ],
   "source": [
    "print(s)"
   ]
  },
  {
   "cell_type": "code",
   "execution_count": 28,
   "metadata": {},
   "outputs": [
    {
     "name": "stdout",
     "output_type": "stream",
     "text": [
      "[45, 4, 400]\n",
      "[4, 45, 400]\n"
     ]
    }
   ],
   "source": [
    "d = [45,4,400]\n",
    "f = sorted(d)\n",
    "print(d)\n",
    "print(f)"
   ]
  },
  {
   "cell_type": "code",
   "execution_count": 29,
   "metadata": {},
   "outputs": [
    {
     "name": "stdout",
     "output_type": "stream",
     "text": [
      "[45, 4, 400]\n",
      "[]\n"
     ]
    }
   ],
   "source": [
    "print(d)\n",
    "d.clear()\n",
    "print(d)"
   ]
  },
  {
   "cell_type": "markdown",
   "metadata": {},
   "source": [
    "# Tuple:"
   ]
  },
  {
   "cell_type": "code",
   "execution_count": 33,
   "metadata": {},
   "outputs": [
    {
     "name": "stdout",
     "output_type": "stream",
     "text": [
      "(12, 48, 79.5678, 'sainath') <class 'tuple'>\n"
     ]
    }
   ],
   "source": [
    "s = (12,48,79.5678,\"sainath\")\n",
    "print(s,type(s))"
   ]
  },
  {
   "cell_type": "code",
   "execution_count": 32,
   "metadata": {},
   "outputs": [
    {
     "name": "stdout",
     "output_type": "stream",
     "text": [
      "['__add__', '__class__', '__contains__', '__delattr__', '__dir__', '__doc__', '__eq__', '__format__', '__ge__', '__getattribute__', '__getitem__', '__getnewargs__', '__gt__', '__hash__', '__init__', '__init_subclass__', '__iter__', '__le__', '__len__', '__lt__', '__mul__', '__ne__', '__new__', '__reduce__', '__reduce_ex__', '__repr__', '__rmul__', '__setattr__', '__sizeof__', '__str__', '__subclasshook__', 'count', 'index']\n"
     ]
    }
   ],
   "source": [
    "print(dir(tuple))"
   ]
  },
  {
   "cell_type": "code",
   "execution_count": 34,
   "metadata": {},
   "outputs": [
    {
     "name": "stdout",
     "output_type": "stream",
     "text": [
      "(12, 48, 79.5678, 'sainath')\n",
      "(12, 48, 79.5678, 'sainath')\n"
     ]
    }
   ],
   "source": [
    "print(s)\n",
    "s.count(12)\n",
    "print(s)"
   ]
  },
  {
   "cell_type": "code",
   "execution_count": 36,
   "metadata": {},
   "outputs": [
    {
     "data": {
      "text/plain": [
       "1"
      ]
     },
     "execution_count": 36,
     "metadata": {},
     "output_type": "execute_result"
    }
   ],
   "source": [
    "s.index(48)"
   ]
  },
  {
   "cell_type": "code",
   "execution_count": 38,
   "metadata": {},
   "outputs": [
    {
     "name": "stdout",
     "output_type": "stream",
     "text": [
      "[45, 78, 12, 96, 56] <class 'list'>\n",
      "(12, 45, 56, 78, 96)\n"
     ]
    }
   ],
   "source": [
    "p = (45,78,12,96,56)\n",
    "d = list(p)\n",
    "print(d,type(d))\n",
    "d.sort()\n",
    "q = tuple(d)\n",
    "print(q)"
   ]
  },
  {
   "cell_type": "code",
   "execution_count": null,
   "metadata": {},
   "outputs": [],
   "source": []
  }
 ],
 "metadata": {
  "kernelspec": {
   "display_name": "Python 3",
   "language": "python",
   "name": "python3"
  },
  "language_info": {
   "codemirror_mode": {
    "name": "ipython",
    "version": 3
   },
   "file_extension": ".py",
   "mimetype": "text/x-python",
   "name": "python",
   "nbconvert_exporter": "python",
   "pygments_lexer": "ipython3",
   "version": "3.8.3"
  }
 },
 "nbformat": 4,
 "nbformat_minor": 4
}
