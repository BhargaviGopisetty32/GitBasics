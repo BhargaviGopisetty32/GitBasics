{
 "cells": [
  {
   "cell_type": "markdown",
   "metadata": {},
   "source": [
    "# Files,Packages and Modules:"
   ]
  },
  {
   "cell_type": "markdown",
   "metadata": {},
   "source": [
    "# Files:\n",
    "     - To store values or data in permanently\n",
    "     - File formats .py,.text,.java,.csv\n",
    "     - 3 Modes\n",
    "          = Read -> r -> if file doesn't exists it displays an error.If file exists it reads the data in a file\n",
    "          = Write -> w -> if file doesnt exixts it creates a filewith user defined filename.If file exists it writes to a file.Previous data will be erased and new data will be arrived\n",
    "          = Append -> a -> if file doesnt exixts it creates a file with user defined filename.If file exixts it writes to a file.It will adds new data for exixting ones\n",
    "          = Execute -> x -> If file does not exist with file name it creates a file with user defined filename. "
   ]
  },
  {
   "cell_type": "code",
   "execution_count": 39,
   "metadata": {},
   "outputs": [],
   "source": [
    "with open('Rawdata/sample.text','w') as ft:\n",
    "    ft.write(\"Hello Good Evening\")"
   ]
  },
  {
   "cell_type": "code",
   "execution_count": 40,
   "metadata": {},
   "outputs": [
    {
     "name": "stdout",
     "output_type": "stream",
     "text": [
      "Hello Good Evening\n"
     ]
    }
   ],
   "source": [
    "with open('Rawdata/sample.text','r') as fr:\n",
    "    print(fr.read())"
   ]
  },
  {
   "cell_type": "code",
   "execution_count": 41,
   "metadata": {},
   "outputs": [],
   "source": [
    "with open('Rawdata/sample.text','a') as fa:\n",
    "    fa.write(\"\\nWelcome to APSSDC Programs\")"
   ]
  },
  {
   "cell_type": "code",
   "execution_count": 42,
   "metadata": {},
   "outputs": [],
   "source": [
    "with open('Rawdata/sample.text','a') as d:\n",
    "    d.write(\"\\nHi welcome\")"
   ]
  },
  {
   "cell_type": "code",
   "execution_count": 43,
   "metadata": {},
   "outputs": [],
   "source": [
    "with open('Rawdata/sample2.text','a') as f:\n",
    "    with open('Rawdata/sample2.text','a') as g:\n",
    "        g.write(\"\\nWelcome Bhargavi\")"
   ]
  },
  {
   "cell_type": "markdown",
   "metadata": {},
   "source": [
    "```\n",
    "Input.text : \n",
    "           20\n",
    "Output.text :\n",
    "            Entered number is : 20\n",
    "            Even numbers in range 20 is :\n",
    "            ```\n"
   ]
  },
  {
   "cell_type": "code",
   "execution_count": 1,
   "metadata": {},
   "outputs": [
    {
     "name": "stdout",
     "output_type": "stream",
     "text": [
      "Enter a range: 2\n",
      "Enter a name: Bhargavi\n",
      "Enter a name: Himasri\n"
     ]
    }
   ],
   "source": [
    "with open('Rawdata/Names.csv','w') as y:\n",
    "    n = int(input(\"Enter a range: \"))\n",
    "    for j in range(1,n+1):\n",
    "        m = input(\"Enter a name: \")\n",
    "        y.write(m+\"\\n\")"
   ]
  },
  {
   "cell_type": "code",
   "execution_count": 2,
   "metadata": {},
   "outputs": [
    {
     "name": "stdout",
     "output_type": "stream",
     "text": [
      "['_CHUNK_SIZE', '__class__', '__del__', '__delattr__', '__dict__', '__dir__', '__doc__', '__enter__', '__eq__', '__exit__', '__format__', '__ge__', '__getattribute__', '__gt__', '__hash__', '__init__', '__init_subclass__', '__iter__', '__le__', '__lt__', '__ne__', '__new__', '__next__', '__reduce__', '__reduce_ex__', '__repr__', '__setattr__', '__sizeof__', '__str__', '__subclasshook__', '_checkClosed', '_checkReadable', '_checkSeekable', '_checkWritable', '_finalizing', 'buffer', 'close', 'closed', 'detach', 'encoding', 'errors', 'fileno', 'flush', 'isatty', 'line_buffering', 'mode', 'name', 'newlines', 'read', 'readable', 'readline', 'readlines', 'reconfigure', 'seek', 'seekable', 'tell', 'truncate', 'writable', 'write', 'write_through', 'writelines']\n"
     ]
    }
   ],
   "source": [
    "print(dir(y))"
   ]
  },
  {
   "cell_type": "code",
   "execution_count": 4,
   "metadata": {},
   "outputs": [
    {
     "name": "stdout",
     "output_type": "stream",
     "text": [
      "Enter a range: 17\n"
     ]
    }
   ],
   "source": [
    "with open('Rawdata/input.text','w') as ft:\n",
    "    ft.write(input(\"Enter a range: \"))"
   ]
  },
  {
   "cell_type": "code",
   "execution_count": 6,
   "metadata": {},
   "outputs": [],
   "source": [
    "with open('Rawdata/input.text','r') as g:\n",
    "    f = g.readlines()\n",
    "    with open('Rawdata/output.text','w') as wy:\n",
    "        wy.write(\"Entered number is: {}\\n\".format(f[0]))\n",
    "        x = []\n",
    "        for n in range(1,int(f[0])+1):\n",
    "            if n%2==0:\n",
    "                h = str(n)+\",\"\n",
    "                x.append(h)\n",
    "        t = \" \".join(x)\n",
    "        wy.write(\"Even numbers in range {} is : {}\".format(f[0],t))"
   ]
  },
  {
   "cell_type": "markdown",
   "metadata": {},
   "source": [
    "```\n",
    "Task : \n",
    "     \n",
    "     sheet ->\n",
    "           Field -> Name,Time in session(minutes)\n",
    "           roll-name-collegecode\n",
    "           19KQ1A0532-Venkata Bhargavi Gopisetty-Pace Institute of Technology And Sciences => 100\n",
    "          \n",
    "Output.csv\n",
    "\n",
    "      Roll           Time\n",
    "      19KQ1A0532     100\n",
    "      ----------     ---\n",
    "    \n",
    "    Not Considered.csv\n",
    "      Roll           Time\n",
    "        \n",
    "    Final.csv: [70]\n",
    "      Roll           Time   Status\n",
    "      -------------------\n",
    "      --             120      P\n",
    "      --             22       A\n",
    "        \n",
    "       ```"
   ]
  },
  {
   "cell_type": "code",
   "execution_count": 8,
   "metadata": {},
   "outputs": [
    {
     "name": "stdout",
     "output_type": "stream",
     "text": [
      "19KQ1A0532\n"
     ]
    }
   ],
   "source": [
    "n = ['19KQ1A0532-Venkata Bhargavi Gopisetty-Pace Institute Of Technology And Sciences']\n",
    "d = n[0].split(\"-\")[0]\n",
    "print(d)"
   ]
  },
  {
   "cell_type": "code",
   "execution_count": null,
   "metadata": {},
   "outputs": [],
   "source": []
  }
 ],
 "metadata": {
  "kernelspec": {
   "display_name": "Python 3",
   "language": "python",
   "name": "python3"
  },
  "language_info": {
   "codemirror_mode": {
    "name": "ipython",
    "version": 3
   },
   "file_extension": ".py",
   "mimetype": "text/x-python",
   "name": "python",
   "nbconvert_exporter": "python",
   "pygments_lexer": "ipython3",
   "version": "3.8.3"
  }
 },
 "nbformat": 4,
 "nbformat_minor": 4
}
